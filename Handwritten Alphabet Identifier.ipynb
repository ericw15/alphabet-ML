{
 "cells": [
  {
   "cell_type": "markdown",
   "id": "b0d48c88",
   "metadata": {},
   "source": [
    "# Objective"
   ]
  },
  {
   "cell_type": "markdown",
   "id": "fa01ba86",
   "metadata": {},
   "source": [
    "The objective of this project is to use a basic Convolutional Neural Network (CNN) to identify alphabetic characters from 28 x 28 pixel images."
   ]
  },
  {
   "cell_type": "markdown",
   "id": "0e9b9a4d",
   "metadata": {},
   "source": [
    "The dataset for this notebook is from a Kaggle dataset:\n",
    "https://www.kaggle.com/sachinpatel21/az-handwritten-alphabets-in-csv-format\n",
    "\n",
    "The dataset is titled A-Z Handwritten Alphabets in .csv format"
   ]
  },
  {
   "cell_type": "code",
   "execution_count": 1,
   "id": "9f8974d4",
   "metadata": {},
   "outputs": [],
   "source": [
    "import pandas as pd\n",
    "import numpy as np\n",
    "import matplotlib.pyplot as plt\n",
    "import tensorflow as tf\n",
    "import math\n",
    "from tensorflow import keras\n",
    "from tensorflow.keras import layers\n",
    "from sklearn import metrics\n",
    "from sklearn.model_selection import train_test_split"
   ]
  },
  {
   "cell_type": "code",
   "execution_count": 2,
   "id": "bc2e899a",
   "metadata": {},
   "outputs": [],
   "source": [
    "dataset = pd.read_csv(\"/Users/ericwolos/ML/archive/handwrittenAlphabet.csv\")"
   ]
  },
  {
   "cell_type": "markdown",
   "id": "5d2a7bda",
   "metadata": {},
   "source": [
    "Dataset contains 372,450 images, each 28 x 28 pixels\n",
    "Unfortunately they are not formatted in a 3 dimensional array yet"
   ]
  },
  {
   "cell_type": "code",
   "execution_count": 3,
   "id": "8803f844",
   "metadata": {},
   "outputs": [
    {
     "name": "stdout",
     "output_type": "stream",
     "text": [
      "(372450, 785)\n",
      "         0  0.1  0.2  0.3  0.4  0.5  0.6  0.7  0.8  0.9  ...  0.639  0.640  \\\n",
      "0        0    0    0    0    0    0    0    0    0    0  ...      0      0   \n",
      "1        0    0    0    0    0    0    0    0    0    0  ...      0      0   \n",
      "2        0    0    0    0    0    0    0    0    0    0  ...      0      0   \n",
      "3        0    0    0    0    0    0    0    0    0    0  ...      0      0   \n",
      "4        0    0    0    0    0    0    0    0    0    0  ...      0      0   \n",
      "...     ..  ...  ...  ...  ...  ...  ...  ...  ...  ...  ...    ...    ...   \n",
      "372445  25    0    0    0    0    0    0    0    0    0  ...      0      0   \n",
      "372446  25    0    0    0    0    0    0    0    0    0  ...      0      0   \n",
      "372447  25    0    0    0    0    0    0    0    0    0  ...      0      0   \n",
      "372448  25    0    0    0    0    0    0    0    0    0  ...      0      0   \n",
      "372449  25    0    0    0    0    0    0    0    0    0  ...      0      0   \n",
      "\n",
      "        0.641  0.642  0.643  0.644  0.645  0.646  0.647  0.648  \n",
      "0           0      0      0      0      0      0      0      0  \n",
      "1           0      0      0      0      0      0      0      0  \n",
      "2           0      0      0      0      0      0      0      0  \n",
      "3           0      0      0      0      0      0      0      0  \n",
      "4           0      0      0      0      0      0      0      0  \n",
      "...       ...    ...    ...    ...    ...    ...    ...    ...  \n",
      "372445      0      0      0      0      0      0      0      0  \n",
      "372446      0      0      0      0      0      0      0      0  \n",
      "372447      0      0      0      0      0      0      0      0  \n",
      "372448      0      0      0      0      0      0      0      0  \n",
      "372449      0      0      0      0      0      0      0      0  \n",
      "\n",
      "[372450 rows x 785 columns]\n"
     ]
    }
   ],
   "source": [
    "print(dataset.shape)\n",
    "print(dataset)"
   ]
  },
  {
   "cell_type": "markdown",
   "id": "f350cc22",
   "metadata": {},
   "source": [
    "Please note that the first column of the set contains relevant labels. These labels correspond to an index and begin at 0 (a) and end at 25 (z)."
   ]
  },
  {
   "cell_type": "markdown",
   "id": "f632003a",
   "metadata": {},
   "source": [
    "# Preprocessing"
   ]
  },
  {
   "cell_type": "markdown",
   "id": "be88c285",
   "metadata": {},
   "source": [
    "First, images will be reformatted into 28 x 28 instead of remaining flattened "
   ]
  },
  {
   "cell_type": "code",
   "execution_count": 4,
   "id": "1f06abef",
   "metadata": {},
   "outputs": [],
   "source": [
    "datasetFeatures = dataset.drop(columns=['0'])\n",
    "datasetLabels = dataset['0'].to_numpy()\n",
    "datasetLabels = datasetLabels#.reshape(datasetLabels.shape[0], 1)\n",
    "\n",
    "# Division by 255 acts as normalization\n",
    "datasetUnflattened = datasetFeatures.to_numpy().reshape(-1, 28, 28, 1)/255"
   ]
  },
  {
   "cell_type": "markdown",
   "id": "20a6bd83",
   "metadata": {},
   "source": [
    "Next, the dataset will be split into training and testing data. In this case, 20% of data will be used for testing and the other 80% will be used for training."
   ]
  },
  {
   "cell_type": "code",
   "execution_count": 5,
   "id": "3f0346e2",
   "metadata": {},
   "outputs": [],
   "source": [
    "TrainFeatures, TestFeatures, TrainLabels, TestLabels = train_test_split(datasetUnflattened, datasetLabels, test_size = 0.2, stratify = datasetLabels)\n"
   ]
  },
  {
   "cell_type": "code",
   "execution_count": 6,
   "id": "8b217067",
   "metadata": {},
   "outputs": [
    {
     "name": "stdout",
     "output_type": "stream",
     "text": [
      "Training features are shaped (297960, 28, 28, 1)\n",
      "Testing features are shaped (74490, 28, 28, 1)\n",
      "Training labels are shaped (297960,)\n",
      "Testing labels are shaped (74490,)\n"
     ]
    }
   ],
   "source": [
    "print(\"Training features are shaped {}\".format(TrainFeatures.shape))\n",
    "print(\"Testing features are shaped {}\".format(TestFeatures.shape))\n",
    "print(\"Training labels are shaped {}\".format(TrainLabels.shape))\n",
    "print(\"Testing labels are shaped {}\".format(TestLabels.shape))"
   ]
  },
  {
   "cell_type": "code",
   "execution_count": 7,
   "id": "98bd14fd",
   "metadata": {},
   "outputs": [],
   "source": [
    "# Assemble both datasets\n",
    "trainDataset = tf.data.Dataset.from_tensor_slices((TrainFeatures, TrainLabels))\n",
    "testDataset = tf.data.Dataset.from_tensor_slices((TestFeatures,TestLabels))\n"
   ]
  },
  {
   "cell_type": "code",
   "execution_count": 8,
   "id": "c6b94f6f",
   "metadata": {},
   "outputs": [],
   "source": [
    "numTrainLabels = TrainLabels.shape[0]\n",
    "batchSize = 32\n",
    "\n",
    "trainDataset = trainDataset.cache().repeat().shuffle(numTrainLabels).batch(batchSize)\n",
    "testDataset = testDataset.cache().repeat().batch(batchSize)\n"
   ]
  },
  {
   "cell_type": "markdown",
   "id": "e7e76aa2",
   "metadata": {},
   "source": [
    "# Visualization"
   ]
  },
  {
   "cell_type": "markdown",
   "id": "da499895",
   "metadata": {},
   "source": [
    "Next, I'll look at some of the images and their labels"
   ]
  },
  {
   "cell_type": "code",
   "execution_count": 9,
   "id": "c6bf3c21",
   "metadata": {},
   "outputs": [
    {
     "data": {
      "image/png": "[encoded data removed]",
      "text/plain": [
       "<Figure size 1296x1296 with 9 Axes>"
      ]
     },
     "metadata": {},
     "output_type": "display_data"
    }
   ],
   "source": [
    "# this function returns a row of n images starting at startImageNum where n is numImages\n",
    "\n",
    "def getImages(numImages, startImageNum):\n",
    "    figure = plt.figure(figsize=(18,18))\n",
    "    \n",
    "    for imageNum in range(1,numImages):\n",
    "        \n",
    "        startImage = startImageNum + imageNum\n",
    "        \n",
    "        figure.add_subplot(1, numImages, imageNum)\n",
    "        \n",
    "        plt.imshow(TrainFeatures[startImage])\n",
    "        plt.xlabel(\"Label: \" + str(TrainLabels[startImage]), fontsize = 12)\n",
    "        plt.xticks([])\n",
    "        plt.yticks([])\n",
    "        \n",
    "    plt.show()\n",
    "\n",
    "getImages(10, 100)\n"
   ]
  },
  {
   "cell_type": "markdown",
   "id": "d2f1245e",
   "metadata": {},
   "source": [
    "The labels correspond to the correct handwritten letters"
   ]
  },
  {
   "cell_type": "markdown",
   "id": "3386e37d",
   "metadata": {},
   "source": [
    "# Model Construction"
   ]
  },
  {
   "cell_type": "code",
   "execution_count": 10,
   "id": "eeb3347c",
   "metadata": {},
   "outputs": [
    {
     "name": "stdout",
     "output_type": "stream",
     "text": [
      "Model: \"sequential\"\n",
      "_________________________________________________________________\n",
      " Layer (type)                Output Shape              Param #   \n",
      "=================================================================\n",
      " conv2d (Conv2D)             (None, 28, 28, 32)        320       \n",
      "                                                                 \n",
      " max_pooling2d (MaxPooling2D  (None, 14, 14, 32)       0         \n",
      " )                                                               \n",
      "                                                                 \n",
      " conv2d_1 (Conv2D)           (None, 14, 14, 64)        18496     \n",
      "                                                                 \n",
      " max_pooling2d_1 (MaxPooling  (None, 7, 7, 64)         0         \n",
      " 2D)                                                             \n",
      "                                                                 \n",
      " flatten (Flatten)           (None, 3136)              0         \n",
      "                                                                 \n",
      " dense (Dense)               (None, 256)               803072    \n",
      "                                                                 \n",
      " dense_1 (Dense)             (None, 26)                6682      \n",
      "                                                                 \n",
      "=================================================================\n",
      "Total params: 828,570\n",
      "Trainable params: 828,570\n",
      "Non-trainable params: 0\n",
      "_________________________________________________________________\n"
     ]
    }
   ],
   "source": [
    "model = tf.keras.Sequential([\n",
    "    \n",
    "    tf.keras.layers.Conv2D(32, (3,3), padding = 'same', activation = 'relu', input_shape = (28,28,1)),\n",
    "    tf.keras.layers.MaxPooling2D((2,2), strides = 2),\n",
    "    tf.keras.layers.Conv2D(64, (3,3), padding = 'same', activation = 'relu'),\n",
    "    tf.keras.layers.MaxPooling2D((2,2), strides = 2),\n",
    "    tf.keras.layers.Flatten(input_shape=(28, 28, 1)),\n",
    "    tf.keras.layers.Dense(256, activation = 'relu'),\n",
    "    tf.keras.layers.Dense(26, activation = 'softmax')\n",
    "])\n",
    "\n",
    "model.summary()"
   ]
  },
  {
   "cell_type": "markdown",
   "id": "55ecd2f3",
   "metadata": {},
   "source": [
    "The model requires compilation as well. "
   ]
  },
  {
   "cell_type": "code",
   "execution_count": 11,
   "id": "c75be90f",
   "metadata": {},
   "outputs": [],
   "source": [
    "myAdam = tf.keras.optimizers.Adam(learning_rate = 0.001)\n",
    "\n",
    "model.compile(\n",
    "    optimizer = myAdam,\n",
    "    loss = \"sparse_categorical_crossentropy\",\n",
    "    metrics = [\"accuracy\"]\n",
    ")"
   ]
  },
  {
   "cell_type": "markdown",
   "id": "b42497da",
   "metadata": {},
   "source": [
    "I'd like to ensure that the model does not get overfit because of too many epochs. An Early Stopper will stop model training if a certain change in accuracy is not met."
   ]
  },
  {
   "cell_type": "code",
   "execution_count": 12,
   "id": "c9083567",
   "metadata": {},
   "outputs": [],
   "source": [
    "callback = tf.keras.callbacks.EarlyStopping(monitor='accuracy', patience=1, min_delta = 0.01)"
   ]
  },
  {
   "cell_type": "markdown",
   "id": "667ac26e",
   "metadata": {},
   "source": [
    "# Model Training & Testing"
   ]
  },
  {
   "cell_type": "code",
   "execution_count": 13,
   "id": "b2823f2f",
   "metadata": {},
   "outputs": [
    {
     "name": "stdout",
     "output_type": "stream",
     "text": [
      "Epoch 1/10\n",
      "9312/9312 [==============================] - 162s 17ms/step - loss: 0.1080 - accuracy: 0.9691\n",
      "Epoch 2/10\n",
      "9312/9312 [==============================] - 166s 18ms/step - loss: 0.0415 - accuracy: 0.9881\n",
      "Epoch 3/10\n",
      "9312/9312 [==============================] - 164s 18ms/step - loss: 0.0267 - accuracy: 0.9919\n"
     ]
    }
   ],
   "source": [
    "history = model.fit(trainDataset, epochs = 10, steps_per_epoch = math.ceil(numTrainLabels/batchSize), callbacks = [callback])"
   ]
  },
  {
   "cell_type": "code",
   "execution_count": 14,
   "id": "fe0bfd05",
   "metadata": {},
   "outputs": [
    {
     "name": "stdout",
     "output_type": "stream",
     "text": [
      "9312/9312 [==============================] - 50s 5ms/step - loss: 0.0348 - accuracy: 0.9907\n",
      "Test dataset Accuracy: 99.06672835350037 %\n"
     ]
    }
   ],
   "source": [
    "testLoss, testAccuracy = model.evaluate(testDataset, steps = math.ceil(numTrainLabels/batchSize))\n",
    "print('Test dataset Accuracy:', str(testAccuracy * 100), '%')"
   ]
  },
  {
   "cell_type": "markdown",
   "id": "2b11e6ce",
   "metadata": {},
   "source": [
    "# Further Visualization "
   ]
  },
  {
   "cell_type": "markdown",
   "id": "89006454",
   "metadata": {},
   "source": [
    "Now let's see some images and respective model predictions to visually confirm model success"
   ]
  },
  {
   "cell_type": "code",
   "execution_count": 15,
   "id": "861f3582",
   "metadata": {},
   "outputs": [],
   "source": [
    "for testImages, imageLabels in testDataset.take(1):\n",
    "    testImages = testImages.numpy()\n",
    "    imageLabels = imageLabels.numpy()\n",
    "    predictions = model.predict(testImages)"
   ]
  },
  {
   "cell_type": "markdown",
   "id": "b3a1bab5",
   "metadata": {},
   "source": [
    "Let's look at 10 images and their predictions"
   ]
  },
  {
   "cell_type": "code",
   "execution_count": 16,
   "id": "41de0774",
   "metadata": {},
   "outputs": [
    {
     "data": {
      "image/png": "[encoded data removed]",
      "text/plain": [
       "<Figure size 1296x1296 with 10 Axes>"
      ]
     },
     "metadata": {},
     "output_type": "display_data"
    }
   ],
   "source": [
    "# This function will compare ground truth to model predictions\n",
    "def compareTruth(numImages):\n",
    "    figure = plt.figure(figsize = (18,18))\n",
    "    for imageNum in range(1,numImages + 1):\n",
    "        \n",
    "        figure.add_subplot(1, numImages, imageNum)\n",
    "\n",
    "        plt.imshow(testImages[imageNum])\n",
    "        \n",
    "        plt.xlabel(\"Prediction: \" + str(np.argmax(predictions[imageNum])), fontsize = 10)\n",
    "        plt.ylabel(\"Ground Truth: \" + str(imageLabels[imageNum]), fontsize = 10)\n",
    "        plt.xticks([])\n",
    "        plt.yticks([])\n",
    "        \n",
    "    plt.tight_layout()\n",
    "    plt.show()\n",
    "\n",
    "    \n",
    "numImages = 10\n",
    "compareTruth(numImages)"
   ]
  },
  {
   "cell_type": "code",
   "execution_count": null,
   "id": "d0ba1c70",
   "metadata": {},
   "outputs": [],
   "source": [
    "Note that in the above examples, we can examine where the model made a mistake. The letter D (second from far right) has been mistaken f"
   ]
  }
 ],
 "metadata": {
  "kernelspec": {
   "display_name": "Python 3",
   "language": "python",
   "name": "python3"
  },
  "language_info": {
   "codemirror_mode": {
    "name": "ipython",
    "version": 3
   },
   "file_extension": ".py",
   "mimetype": "text/x-python",
   "name": "python",
   "nbconvert_exporter": "python",
   "pygments_lexer": "ipython3",
   "version": "3.8.8"
  }
 },
 "nbformat": 4,
 "nbformat_minor": 5
}
